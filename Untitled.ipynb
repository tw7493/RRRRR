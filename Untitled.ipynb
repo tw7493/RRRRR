{
  "nbformat": 4,
  "nbformat_minor": 0,
  "metadata": {
    "colab": {
      "name": "Untitled",
      "private_outputs": true,
      "provenance": [],
      "collapsed_sections": [],
      "authorship_tag": "ABX9TyOxqU+P+YhCKg9UwkLg3gwW",
      "include_colab_link": true
    },
    "kernelspec": {
      "name": "ir",
      "display_name": "R"
    },
    "language_info": {
      "name": "R"
    }
  },
  "cells": [
    {
      "cell_type": "markdown",
      "metadata": {
        "id": "view-in-github",
        "colab_type": "text"
      },
      "source": [
        "<a href=\"https://colab.research.google.com/github/tw7493/RRRRR/blob/main/Untitled.ipynb\" target=\"_parent\"><img src=\"https://colab.research.google.com/assets/colab-badge.svg\" alt=\"Open In Colab\"/></a>"
      ]
    },
    {
      "cell_type": "code",
      "execution_count": null,
      "metadata": {
        "id": "r_gYVK6eZrzr"
      },
      "outputs": [],
      "source": [
        "A = c(1,2,3,4,5)\n",
        "\n",
        "if( 7 %in% A){ # %in% A에 속해 있는지 확인하는 논리문\n",
        "print(\"TRUE\")\n",
        "} else{ \n",
        "print(\"FALSE\")\n",
        "}"
      ]
    },
    {
      "cell_type": "code",
      "source": [
        ""
      ],
      "metadata": {
        "id": "5Uqv50QAaGBz"
      },
      "execution_count": null,
      "outputs": []
    },
    {
      "cell_type": "code",
      "source": [
        "dfdafd"
      ],
      "metadata": {
        "id": "CFAKLbkjZ6u3"
      },
      "execution_count": null,
      "outputs": []
    }
  ]
}