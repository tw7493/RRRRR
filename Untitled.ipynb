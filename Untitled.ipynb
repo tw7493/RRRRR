{
  "nbformat": 4,
  "nbformat_minor": 0,
  "metadata": {
    "colab": {
      "name": "Untitled",
      "private_outputs": true,
      "provenance": [],
      "collapsed_sections": [],
      "authorship_tag": "ABX9TyOxA83KOLuV6Icd3vcRk4Ab",
      "include_colab_link": true
    },
    "kernelspec": {
      "name": "ir",
      "display_name": "R"
    },
    "language_info": {
      "name": "R"
    }
  },
  "cells": [
    {
      "cell_type": "markdown",
      "metadata": {
        "id": "view-in-github",
        "colab_type": "text"
      },
      "source": [
        "<a href=\"https://colab.research.google.com/github/tw7493/RRRRR/blob/2022.04.02R/Untitled.ipynb\" target=\"_parent\"><img src=\"https://colab.research.google.com/assets/colab-badge.svg\" alt=\"Open In Colab\"/></a>"
      ]
    },
    {
      "cell_type": "code",
      "execution_count": null,
      "metadata": {
        "id": "r_gYVK6eZrzr"
      },
      "outputs": [],
      "source": [
        "A = c(1,2,3,4,5)\n",
        "\n",
        "if( 7 %in% A){ # %in% A에 속해 있는지 확인하는 논리문\n",
        "print(\"TRUE\")\n",
        "} else{ \n",
        "print(\"FALSE\")\n",
        "}"
      ]
    },
    {
      "cell_type": "code",
      "source": [
        "# function을 통해 사용자함수 만들기 \n",
        "# 입력 값에 +1을 해주는 함수 \n",
        "Plus_One = function(x){\n",
        "    y = x+1\n",
        "    return(y)\n",
        "}\n",
        "Plus_Two = function(x){\n",
        "    y = x+1\n",
        "    return(y)\n",
        "}\n",
        "Plus_One(3)\n",
        "Plus_Two(2)"
      ],
      "metadata": {
        "id": "5Uqv50QAaGBz"
      },
      "execution_count": null,
      "outputs": []
    },
    {
      "cell_type": "code",
      "source": [
        "# 'ggplot2' 는 데이터를 이해하는데 좋은 시각화 툴\n",
        "\n",
        "install.packages(\"ggplot2\")  # install.packages() 로 설치를 하고\n",
        "library(ggplot2)             # library() 로 사용할 패키지를 로드"
      ],
      "metadata": {
        "id": "CFAKLbkjZ6u3"
      },
      "execution_count": null,
      "outputs": []
    },
    {
      "cell_type": "code",
      "source": [
        "# ggplot2 의 예시\n",
        "qplot(data = diamonds, x = carat, y = price, geom = \"point\") \n",
        "ggplot(diamonds, aes(carat, price)) + geom_point()\n"
      ],
      "metadata": {
        "id": "I6xSK0fmbVQ8"
      },
      "execution_count": null,
      "outputs": []
    },
    {
      "cell_type": "code",
      "source": [
        "#연습문제 1\n",
        "sample(1:45, 6) \n",
        "\n",
        "#연습문제 2\n",
        "AV = seq(from = 1, to = 99, by = 2 )\n",
        "print(AV)\n",
        "B = seq(from = 1, to = 5, by = 1)\n",
        "BC = rep(seq(from = 1, to = 5, by = 1), 2)\n",
        "\n",
        "\n",
        "print(rep(c(1,2,3,4,5), c(2,2,2,2,2)))   # rep는 rep(a, b)에서 c()로 쓸 경우 그안의 a가 b와 수가 같아야한다.\n",
        "print(rep(c(1:5), rep(c(2), 5)))         # 똑같은거지만, 숫자가 늘어날 경우엔? 해서 만들어 보았다. 2가 5번 반복되어 \n",
        "                                         # 1 ~ 5 숫자가 2라는 반복횟수에 대칭되어 출력된다.\n",
        "print(rep(c(1:5), c(1:5)))               # 응용버전 개수가 그 숫자 만큼 늘어남.\n",
        "\n",
        "#연습문제 3\n",
        "x1 = c(1:9)\n",
        "Matrix = matrix(\n",
        "    data = x1,\n",
        "    ncol = 9\n",
        ")\n",
        "print(Matrix)\n",
        "\n",
        "#연습문제 4\n",
        "Q = function(x){\n",
        "    y = (-1)*(x^2)-10\n",
        "    return(y)\n",
        "}\n",
        "Q(2)\n",
        "\n",
        "#연습문제 5\n",
        "for(i in 1:9){\n",
        "    cat(i, \"단\\n\")\n",
        "    for (j in 1 :9)\n",
        "       {r = i * j\n",
        "       cat(i, \"*\", j, \"=\", r, \"\\n\")\n",
        "       }\n",
        "}"
      ],
      "metadata": {
        "id": "u6lkcxQjbWrf"
      },
      "execution_count": null,
      "outputs": []
    },
    {
      "cell_type": "code",
      "source": [
        ""
      ],
      "metadata": {
        "id": "qy9KSHy9bWvS"
      },
      "execution_count": null,
      "outputs": []
    }
  ]
}